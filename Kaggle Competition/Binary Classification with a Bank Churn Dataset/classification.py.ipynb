{
 "cells": [
  {
   "cell_type": "code",
   "execution_count": 3,
   "id": "initial_id",
   "metadata": {
    "collapsed": true,
    "ExecuteTime": {
     "end_time": "2024-01-06T00:41:10.416758Z",
     "start_time": "2024-01-06T00:41:06.787750Z"
    }
   },
   "outputs": [],
   "source": [
    "# Importing all the dependencies\n",
    "import pandas as pd\n",
    "from sklearn.linear_model import LogisticRegression\n",
    "from sklearn.metrics import roc_auc_score\n",
    "from sklearn.preprocessing import StandardScaler, OneHotEncoder"
   ]
  },
  {
   "cell_type": "code",
   "outputs": [],
   "source": [
    "train_data = pd.read_csv('train.csv')\n",
    "test_data = pd.read_csv('test.csv')\n",
    "sample = pd.read_csv('sample_submission.csv')"
   ],
   "metadata": {
    "collapsed": false,
    "ExecuteTime": {
     "end_time": "2024-01-06T00:41:10.696243Z",
     "start_time": "2024-01-06T00:41:10.412523Z"
    }
   },
   "id": "809683dac30d1c8b",
   "execution_count": 4
  },
  {
   "cell_type": "code",
   "outputs": [
    {
     "data": {
      "text/plain": "            id  CustomerId         Surname  CreditScore Geography  Gender  \\\n0            0    15674932  Okwudilichukwu          668    France    Male   \n1            1    15749177   Okwudiliolisa          627    France    Male   \n2            2    15694510           Hsueh          678    France    Male   \n3            3    15741417             Kao          581    France    Male   \n4            4    15766172       Chiemenam          716     Spain    Male   \n...        ...         ...             ...          ...       ...     ...   \n165029  165029    15667085            Meng          667     Spain  Female   \n165030  165030    15665521       Okechukwu          792    France    Male   \n165031  165031    15664752            Hsia          565    France    Male   \n165032  165032    15689614          Hsiung          554     Spain  Female   \n165033  165033    15732798         Ulyanov          850    France    Male   \n\n         Age  Tenure    Balance  NumOfProducts  HasCrCard  IsActiveMember  \\\n0       33.0       3       0.00              2        1.0             0.0   \n1       33.0       1       0.00              2        1.0             1.0   \n2       40.0      10       0.00              2        1.0             0.0   \n3       34.0       2  148882.54              1        1.0             1.0   \n4       33.0       5       0.00              2        1.0             1.0   \n...      ...     ...        ...            ...        ...             ...   \n165029  33.0       2       0.00              1        1.0             1.0   \n165030  35.0       3       0.00              1        0.0             0.0   \n165031  31.0       5       0.00              1        1.0             1.0   \n165032  30.0       7  161533.00              1        0.0             1.0   \n165033  31.0       1       0.00              1        1.0             0.0   \n\n        EstimatedSalary  Exited  \n0             181449.97       0  \n1              49503.50       0  \n2             184866.69       0  \n3              84560.88       0  \n4              15068.83       0  \n...                 ...     ...  \n165029        131834.75       0  \n165030        131834.45       0  \n165031        127429.56       0  \n165032         71173.03       0  \n165033         61581.79       1  \n\n[165034 rows x 14 columns]",
      "text/html": "<div>\n<style scoped>\n    .dataframe tbody tr th:only-of-type {\n        vertical-align: middle;\n    }\n\n    .dataframe tbody tr th {\n        vertical-align: top;\n    }\n\n    .dataframe thead th {\n        text-align: right;\n    }\n</style>\n<table border=\"1\" class=\"dataframe\">\n  <thead>\n    <tr style=\"text-align: right;\">\n      <th></th>\n      <th>id</th>\n      <th>CustomerId</th>\n      <th>Surname</th>\n      <th>CreditScore</th>\n      <th>Geography</th>\n      <th>Gender</th>\n      <th>Age</th>\n      <th>Tenure</th>\n      <th>Balance</th>\n      <th>NumOfProducts</th>\n      <th>HasCrCard</th>\n      <th>IsActiveMember</th>\n      <th>EstimatedSalary</th>\n      <th>Exited</th>\n    </tr>\n  </thead>\n  <tbody>\n    <tr>\n      <th>0</th>\n      <td>0</td>\n      <td>15674932</td>\n      <td>Okwudilichukwu</td>\n      <td>668</td>\n      <td>France</td>\n      <td>Male</td>\n      <td>33.0</td>\n      <td>3</td>\n      <td>0.00</td>\n      <td>2</td>\n      <td>1.0</td>\n      <td>0.0</td>\n      <td>181449.97</td>\n      <td>0</td>\n    </tr>\n    <tr>\n      <th>1</th>\n      <td>1</td>\n      <td>15749177</td>\n      <td>Okwudiliolisa</td>\n      <td>627</td>\n      <td>France</td>\n      <td>Male</td>\n      <td>33.0</td>\n      <td>1</td>\n      <td>0.00</td>\n      <td>2</td>\n      <td>1.0</td>\n      <td>1.0</td>\n      <td>49503.50</td>\n      <td>0</td>\n    </tr>\n    <tr>\n      <th>2</th>\n      <td>2</td>\n      <td>15694510</td>\n      <td>Hsueh</td>\n      <td>678</td>\n      <td>France</td>\n      <td>Male</td>\n      <td>40.0</td>\n      <td>10</td>\n      <td>0.00</td>\n      <td>2</td>\n      <td>1.0</td>\n      <td>0.0</td>\n      <td>184866.69</td>\n      <td>0</td>\n    </tr>\n    <tr>\n      <th>3</th>\n      <td>3</td>\n      <td>15741417</td>\n      <td>Kao</td>\n      <td>581</td>\n      <td>France</td>\n      <td>Male</td>\n      <td>34.0</td>\n      <td>2</td>\n      <td>148882.54</td>\n      <td>1</td>\n      <td>1.0</td>\n      <td>1.0</td>\n      <td>84560.88</td>\n      <td>0</td>\n    </tr>\n    <tr>\n      <th>4</th>\n      <td>4</td>\n      <td>15766172</td>\n      <td>Chiemenam</td>\n      <td>716</td>\n      <td>Spain</td>\n      <td>Male</td>\n      <td>33.0</td>\n      <td>5</td>\n      <td>0.00</td>\n      <td>2</td>\n      <td>1.0</td>\n      <td>1.0</td>\n      <td>15068.83</td>\n      <td>0</td>\n    </tr>\n    <tr>\n      <th>...</th>\n      <td>...</td>\n      <td>...</td>\n      <td>...</td>\n      <td>...</td>\n      <td>...</td>\n      <td>...</td>\n      <td>...</td>\n      <td>...</td>\n      <td>...</td>\n      <td>...</td>\n      <td>...</td>\n      <td>...</td>\n      <td>...</td>\n      <td>...</td>\n    </tr>\n    <tr>\n      <th>165029</th>\n      <td>165029</td>\n      <td>15667085</td>\n      <td>Meng</td>\n      <td>667</td>\n      <td>Spain</td>\n      <td>Female</td>\n      <td>33.0</td>\n      <td>2</td>\n      <td>0.00</td>\n      <td>1</td>\n      <td>1.0</td>\n      <td>1.0</td>\n      <td>131834.75</td>\n      <td>0</td>\n    </tr>\n    <tr>\n      <th>165030</th>\n      <td>165030</td>\n      <td>15665521</td>\n      <td>Okechukwu</td>\n      <td>792</td>\n      <td>France</td>\n      <td>Male</td>\n      <td>35.0</td>\n      <td>3</td>\n      <td>0.00</td>\n      <td>1</td>\n      <td>0.0</td>\n      <td>0.0</td>\n      <td>131834.45</td>\n      <td>0</td>\n    </tr>\n    <tr>\n      <th>165031</th>\n      <td>165031</td>\n      <td>15664752</td>\n      <td>Hsia</td>\n      <td>565</td>\n      <td>France</td>\n      <td>Male</td>\n      <td>31.0</td>\n      <td>5</td>\n      <td>0.00</td>\n      <td>1</td>\n      <td>1.0</td>\n      <td>1.0</td>\n      <td>127429.56</td>\n      <td>0</td>\n    </tr>\n    <tr>\n      <th>165032</th>\n      <td>165032</td>\n      <td>15689614</td>\n      <td>Hsiung</td>\n      <td>554</td>\n      <td>Spain</td>\n      <td>Female</td>\n      <td>30.0</td>\n      <td>7</td>\n      <td>161533.00</td>\n      <td>1</td>\n      <td>0.0</td>\n      <td>1.0</td>\n      <td>71173.03</td>\n      <td>0</td>\n    </tr>\n    <tr>\n      <th>165033</th>\n      <td>165033</td>\n      <td>15732798</td>\n      <td>Ulyanov</td>\n      <td>850</td>\n      <td>France</td>\n      <td>Male</td>\n      <td>31.0</td>\n      <td>1</td>\n      <td>0.00</td>\n      <td>1</td>\n      <td>1.0</td>\n      <td>0.0</td>\n      <td>61581.79</td>\n      <td>1</td>\n    </tr>\n  </tbody>\n</table>\n<p>165034 rows × 14 columns</p>\n</div>"
     },
     "execution_count": 5,
     "metadata": {},
     "output_type": "execute_result"
    }
   ],
   "source": [
    "train_data"
   ],
   "metadata": {
    "collapsed": false,
    "ExecuteTime": {
     "end_time": "2024-01-06T00:41:10.859893Z",
     "start_time": "2024-01-06T00:41:10.702285Z"
    }
   },
   "id": "4afa1dd9acb39456",
   "execution_count": 5
  },
  {
   "cell_type": "code",
   "outputs": [
    {
     "data": {
      "text/plain": "array([0, 1])"
     },
     "execution_count": 6,
     "metadata": {},
     "output_type": "execute_result"
    }
   ],
   "source": [
    "train_data['Exited'].unique()"
   ],
   "metadata": {
    "collapsed": false,
    "ExecuteTime": {
     "end_time": "2024-01-06T00:41:10.861834Z",
     "start_time": "2024-01-06T00:41:10.726052Z"
    }
   },
   "id": "bdb79063b2ac5170",
   "execution_count": 6
  },
  {
   "cell_type": "code",
   "outputs": [
    {
     "data": {
      "text/plain": "            id  Exited\n0       165034     0.5\n1       165035     0.5\n2       165036     0.5\n3       165037     0.5\n4       165038     0.5\n...        ...     ...\n110018  275052     0.5\n110019  275053     0.5\n110020  275054     0.5\n110021  275055     0.5\n110022  275056     0.5\n\n[110023 rows x 2 columns]",
      "text/html": "<div>\n<style scoped>\n    .dataframe tbody tr th:only-of-type {\n        vertical-align: middle;\n    }\n\n    .dataframe tbody tr th {\n        vertical-align: top;\n    }\n\n    .dataframe thead th {\n        text-align: right;\n    }\n</style>\n<table border=\"1\" class=\"dataframe\">\n  <thead>\n    <tr style=\"text-align: right;\">\n      <th></th>\n      <th>id</th>\n      <th>Exited</th>\n    </tr>\n  </thead>\n  <tbody>\n    <tr>\n      <th>0</th>\n      <td>165034</td>\n      <td>0.5</td>\n    </tr>\n    <tr>\n      <th>1</th>\n      <td>165035</td>\n      <td>0.5</td>\n    </tr>\n    <tr>\n      <th>2</th>\n      <td>165036</td>\n      <td>0.5</td>\n    </tr>\n    <tr>\n      <th>3</th>\n      <td>165037</td>\n      <td>0.5</td>\n    </tr>\n    <tr>\n      <th>4</th>\n      <td>165038</td>\n      <td>0.5</td>\n    </tr>\n    <tr>\n      <th>...</th>\n      <td>...</td>\n      <td>...</td>\n    </tr>\n    <tr>\n      <th>110018</th>\n      <td>275052</td>\n      <td>0.5</td>\n    </tr>\n    <tr>\n      <th>110019</th>\n      <td>275053</td>\n      <td>0.5</td>\n    </tr>\n    <tr>\n      <th>110020</th>\n      <td>275054</td>\n      <td>0.5</td>\n    </tr>\n    <tr>\n      <th>110021</th>\n      <td>275055</td>\n      <td>0.5</td>\n    </tr>\n    <tr>\n      <th>110022</th>\n      <td>275056</td>\n      <td>0.5</td>\n    </tr>\n  </tbody>\n</table>\n<p>110023 rows × 2 columns</p>\n</div>"
     },
     "execution_count": 7,
     "metadata": {},
     "output_type": "execute_result"
    }
   ],
   "source": [
    "sample"
   ],
   "metadata": {
    "collapsed": false,
    "ExecuteTime": {
     "end_time": "2024-01-06T00:41:10.907315Z",
     "start_time": "2024-01-06T00:41:10.739316Z"
    }
   },
   "id": "29c18e945edbc6e4",
   "execution_count": 7
  },
  {
   "cell_type": "code",
   "outputs": [],
   "source": [
    "# Remove CustomerID and Surname as it does not add value to our data\n",
    "for ds in [train_data, test_data]:\n",
    "    ds.drop(['CustomerId', 'Surname', \"Gender\"], axis=1, inplace=True)"
   ],
   "metadata": {
    "collapsed": false,
    "ExecuteTime": {
     "end_time": "2024-01-06T00:41:10.908273Z",
     "start_time": "2024-01-06T00:41:10.800838Z"
    }
   },
   "id": "a543e54f626005d9",
   "execution_count": 8
  },
  {
   "cell_type": "code",
   "outputs": [
    {
     "data": {
      "text/plain": "            id  CreditScore Geography   Age  Tenure    Balance  NumOfProducts  \\\n0            0          668    France  33.0       3       0.00              2   \n1            1          627    France  33.0       1       0.00              2   \n2            2          678    France  40.0      10       0.00              2   \n3            3          581    France  34.0       2  148882.54              1   \n4            4          716     Spain  33.0       5       0.00              2   \n...        ...          ...       ...   ...     ...        ...            ...   \n165029  165029          667     Spain  33.0       2       0.00              1   \n165030  165030          792    France  35.0       3       0.00              1   \n165031  165031          565    France  31.0       5       0.00              1   \n165032  165032          554     Spain  30.0       7  161533.00              1   \n165033  165033          850    France  31.0       1       0.00              1   \n\n        HasCrCard  IsActiveMember  EstimatedSalary  Exited  \n0             1.0             0.0        181449.97       0  \n1             1.0             1.0         49503.50       0  \n2             1.0             0.0        184866.69       0  \n3             1.0             1.0         84560.88       0  \n4             1.0             1.0         15068.83       0  \n...           ...             ...              ...     ...  \n165029        1.0             1.0        131834.75       0  \n165030        0.0             0.0        131834.45       0  \n165031        1.0             1.0        127429.56       0  \n165032        0.0             1.0         71173.03       0  \n165033        1.0             0.0         61581.79       1  \n\n[165034 rows x 11 columns]",
      "text/html": "<div>\n<style scoped>\n    .dataframe tbody tr th:only-of-type {\n        vertical-align: middle;\n    }\n\n    .dataframe tbody tr th {\n        vertical-align: top;\n    }\n\n    .dataframe thead th {\n        text-align: right;\n    }\n</style>\n<table border=\"1\" class=\"dataframe\">\n  <thead>\n    <tr style=\"text-align: right;\">\n      <th></th>\n      <th>id</th>\n      <th>CreditScore</th>\n      <th>Geography</th>\n      <th>Age</th>\n      <th>Tenure</th>\n      <th>Balance</th>\n      <th>NumOfProducts</th>\n      <th>HasCrCard</th>\n      <th>IsActiveMember</th>\n      <th>EstimatedSalary</th>\n      <th>Exited</th>\n    </tr>\n  </thead>\n  <tbody>\n    <tr>\n      <th>0</th>\n      <td>0</td>\n      <td>668</td>\n      <td>France</td>\n      <td>33.0</td>\n      <td>3</td>\n      <td>0.00</td>\n      <td>2</td>\n      <td>1.0</td>\n      <td>0.0</td>\n      <td>181449.97</td>\n      <td>0</td>\n    </tr>\n    <tr>\n      <th>1</th>\n      <td>1</td>\n      <td>627</td>\n      <td>France</td>\n      <td>33.0</td>\n      <td>1</td>\n      <td>0.00</td>\n      <td>2</td>\n      <td>1.0</td>\n      <td>1.0</td>\n      <td>49503.50</td>\n      <td>0</td>\n    </tr>\n    <tr>\n      <th>2</th>\n      <td>2</td>\n      <td>678</td>\n      <td>France</td>\n      <td>40.0</td>\n      <td>10</td>\n      <td>0.00</td>\n      <td>2</td>\n      <td>1.0</td>\n      <td>0.0</td>\n      <td>184866.69</td>\n      <td>0</td>\n    </tr>\n    <tr>\n      <th>3</th>\n      <td>3</td>\n      <td>581</td>\n      <td>France</td>\n      <td>34.0</td>\n      <td>2</td>\n      <td>148882.54</td>\n      <td>1</td>\n      <td>1.0</td>\n      <td>1.0</td>\n      <td>84560.88</td>\n      <td>0</td>\n    </tr>\n    <tr>\n      <th>4</th>\n      <td>4</td>\n      <td>716</td>\n      <td>Spain</td>\n      <td>33.0</td>\n      <td>5</td>\n      <td>0.00</td>\n      <td>2</td>\n      <td>1.0</td>\n      <td>1.0</td>\n      <td>15068.83</td>\n      <td>0</td>\n    </tr>\n    <tr>\n      <th>...</th>\n      <td>...</td>\n      <td>...</td>\n      <td>...</td>\n      <td>...</td>\n      <td>...</td>\n      <td>...</td>\n      <td>...</td>\n      <td>...</td>\n      <td>...</td>\n      <td>...</td>\n      <td>...</td>\n    </tr>\n    <tr>\n      <th>165029</th>\n      <td>165029</td>\n      <td>667</td>\n      <td>Spain</td>\n      <td>33.0</td>\n      <td>2</td>\n      <td>0.00</td>\n      <td>1</td>\n      <td>1.0</td>\n      <td>1.0</td>\n      <td>131834.75</td>\n      <td>0</td>\n    </tr>\n    <tr>\n      <th>165030</th>\n      <td>165030</td>\n      <td>792</td>\n      <td>France</td>\n      <td>35.0</td>\n      <td>3</td>\n      <td>0.00</td>\n      <td>1</td>\n      <td>0.0</td>\n      <td>0.0</td>\n      <td>131834.45</td>\n      <td>0</td>\n    </tr>\n    <tr>\n      <th>165031</th>\n      <td>165031</td>\n      <td>565</td>\n      <td>France</td>\n      <td>31.0</td>\n      <td>5</td>\n      <td>0.00</td>\n      <td>1</td>\n      <td>1.0</td>\n      <td>1.0</td>\n      <td>127429.56</td>\n      <td>0</td>\n    </tr>\n    <tr>\n      <th>165032</th>\n      <td>165032</td>\n      <td>554</td>\n      <td>Spain</td>\n      <td>30.0</td>\n      <td>7</td>\n      <td>161533.00</td>\n      <td>1</td>\n      <td>0.0</td>\n      <td>1.0</td>\n      <td>71173.03</td>\n      <td>0</td>\n    </tr>\n    <tr>\n      <th>165033</th>\n      <td>165033</td>\n      <td>850</td>\n      <td>France</td>\n      <td>31.0</td>\n      <td>1</td>\n      <td>0.00</td>\n      <td>1</td>\n      <td>1.0</td>\n      <td>0.0</td>\n      <td>61581.79</td>\n      <td>1</td>\n    </tr>\n  </tbody>\n</table>\n<p>165034 rows × 11 columns</p>\n</div>"
     },
     "execution_count": 9,
     "metadata": {},
     "output_type": "execute_result"
    }
   ],
   "source": [
    "train_data"
   ],
   "metadata": {
    "collapsed": false,
    "ExecuteTime": {
     "end_time": "2024-01-06T00:41:10.917719Z",
     "start_time": "2024-01-06T00:41:10.878910Z"
    }
   },
   "id": "f2ad0b1f3b2e50f4",
   "execution_count": 9
  },
  {
   "cell_type": "code",
   "outputs": [],
   "source": [
    "# Converting Geography column into a quantitative value using One-Hot encoding\n",
    "encoder = OneHotEncoder(sparse=False, drop='First')\n",
    "encoded_data = encoder.fit_transform(t)"
   ],
   "metadata": {
    "collapsed": false
   },
   "id": "9a2a8e89e7667cbf"
  },
  {
   "cell_type": "code",
   "outputs": [],
   "source": [],
   "metadata": {
    "collapsed": false
   },
   "id": "ad3cc74f88158bc5"
  }
 ],
 "metadata": {
  "kernelspec": {
   "display_name": "Python 3",
   "language": "python",
   "name": "python3"
  },
  "language_info": {
   "codemirror_mode": {
    "name": "ipython",
    "version": 2
   },
   "file_extension": ".py",
   "mimetype": "text/x-python",
   "name": "python",
   "nbconvert_exporter": "python",
   "pygments_lexer": "ipython2",
   "version": "2.7.6"
  }
 },
 "nbformat": 4,
 "nbformat_minor": 5
}
